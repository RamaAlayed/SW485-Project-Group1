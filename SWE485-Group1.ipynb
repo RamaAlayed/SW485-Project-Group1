{
 "cells": [
  {
   "cell_type": "markdown",
   "id": "d7683def",
   "metadata": {},
   "source": [
    "\n",
    "# SWE485 - Group 1\n",
    "\n",
    "**Group 1 Team Members:**  \n",
    "- Rama Alayed  \n",
    "- Renad Almutred  \n",
    "- Layan Almunasser  \n",
    "- Sara Almogren  \n",
    "- Nada Alkubra  \n"
   ]
  },
  {
   "cell_type": "markdown",
   "id": "d505fe44",
   "metadata": {},
   "source": [
    "\n",
    "# Predicting Movie Success and Building a Recommendation System Using the IMDB Movie Dataset\n",
    "\n",
    "## Introduction\n",
    "The goal of this project is to develop a machine learning-based recommendation system that predicts the success of a movie based on its features and provides personalized movie recommendations. \n",
    "The IMDB Movie Dataset will be used, which includes variables such as title, genre, description, director, actors, year, runtime, rating, and votes.\n",
    "\n",
    "## Problem Statement\n",
    "The movie industry is highly competitive. Predicting the success of a movie is crucial for stakeholders to plan effectively. \n",
    "This project aims at classifying movies into three categories based on their IMDB ratings:\n",
    "\n",
    "- **1-3 (Flop):** Low-rated movies  \n",
    "- **4-7 (Average/Niche):** Moderately rated movies or movies with niche appeal  \n",
    "- **>7 (Success):** Highly rated and successful movies  \n",
    "\n",
    "Additionally, clustering techniques will be used to group similar movies for recommendation purposes.\n"
   ]
  },
  {
   "cell_type": "markdown",
   "id": "95d15673",
   "metadata": {},
   "source": [
    "\n",
    "## Dataset\n",
    "The IMDB Movie Dataset (available on Kaggle) contains 1,000 movies with features such as title, genre, description, director, actors, year, runtime, rating, and votes.  \n",
    "The dataset will be preprocessed to handle missing values, encode categorical variables, and normalize numerical features.\n",
    "\n",
    "**Dataset link:** [IMDB Movie Dataset on Kaggle](https://www.kaggle.com/datasets/yusufdelikkaya/imdb-movie-dataset)\n"
   ]
  },
  {
   "cell_type": "code",
   "execution_count": null,
   "id": "6293e6cb",
   "metadata": {},
   "outputs": [],
   "source": [
    "\n",
    "# Import necessary libraries\n",
    "import pandas as pd\n",
    "import numpy as np\n",
    "import matplotlib.pyplot as plt\n",
    "import seaborn as sns\n",
    "from sklearn.model_selection import train_test_split\n",
    "from sklearn.ensemble import RandomForestClassifier\n",
    "from sklearn.metrics import accuracy_score\n",
    "from sklearn.cluster import KMeans\n"
   ]
  },
  {
   "cell_type": "code",
   "execution_count": null,
   "id": "18160b12",
   "metadata": {},
   "outputs": [],
   "source": [
    "\n",
    "# Load the dataset\n",
    "file_path = \"/mnt/data/imdb_movie_dataset.csv\"  \n",
    "df = pd.read_csv(file_path)\n",
    "\n",
    "# Display first few rows\n",
    "df.head()\n"
   ]
  },
  {
   "cell_type": "code",
   "execution_count": null,
   "id": "8a0e90b9",
   "metadata": {},
   "outputs": [],
   "source": [
    "\n",
    "# Check for missing values\n",
    "df.isnull().sum()\n",
    "\n",
    "# Summary statistics\n",
    "df.describe()\n"
   ]
  },
  {
   "cell_type": "code",
   "execution_count": null,
   "id": "5d8423de",
   "metadata": {},
   "outputs": [],
   "source": [
    "\n",
    "# Visualizing IMDB Ratings Distribution\n",
    "plt.figure(figsize=(8,5))\n",
    "sns.histplot(df[\"Rating\"], bins=10, kde=True, color='blue')\n",
    "plt.title(\"Distribution of IMDB Ratings\")\n",
    "plt.xlabel(\"Rating\")\n",
    "plt.ylabel(\"Frequency\")\n",
    "plt.show()\n"
   ]
  },
  {
   "cell_type": "code",
   "execution_count": null,
   "id": "91565c9c",
   "metadata": {},
   "outputs": [],
   "source": [
    "\n",
    "# Convert ratings into categories: 0 (Flop), 1 (Average/Niche), 2 (Success)\n",
    "df['Success_Category'] = df['Rating'].apply(lambda x: 0 if x < 4 else (1 if x <= 7 else 2))\n",
    "\n",
    "# Define features and target\n",
    "X = df.drop(columns=[\"Rating\", \"Success_Category\"])  # Drop unnecessary columns\n",
    "y = df[\"Success_Category\"]\n",
    "\n",
    "# Split the dataset\n",
    "X_train, X_test, y_train, y_test = train_test_split(X, y, test_size=0.2, random_state=42)\n",
    "\n",
    "# Train a Random Forest Classifier\n",
    "clf = RandomForestClassifier(n_estimators=100, random_state=42)\n",
    "clf.fit(X_train, y_train)\n",
    "\n",
    "# Predictions\n",
    "y_pred = clf.predict(X_test)\n",
    "\n",
    "# Model Evaluation\n",
    "accuracy = accuracy_score(y_test, y_pred)\n",
    "print(f\"Classification Model Accuracy: {accuracy:.2f}\")\n"
   ]
  },
  {
   "cell_type": "code",
   "execution_count": null,
   "id": "17a3a972",
   "metadata": {},
   "outputs": [],
   "source": [
    "\n",
    "# Unsupervised Learning - Clustering with K-Means\n",
    "kmeans = KMeans(n_clusters=3, random_state=42)\n",
    "df['Cluster'] = kmeans.fit_predict(df.select_dtypes(include=[np.number]))\n",
    "\n",
    "# Visualizing Clusters\n",
    "plt.figure(figsize=(8,5))\n",
    "sns.scatterplot(x=df['Runtime (Minutes)'], y=df['Rating'], hue=df['Cluster'], palette='viridis')\n",
    "plt.title(\"Movie Clusters based on Runtime and Rating\")\n",
    "plt.xlabel(\"Runtime (Minutes)\")\n",
    "plt.ylabel(\"IMDB Rating\")\n",
    "plt.show()\n"
   ]
  },
  {
   "cell_type": "markdown",
   "id": "90913116",
   "metadata": {},
   "source": [
    "\n",
    "## Conclusion\n",
    "This project applies machine learning techniques to predict movie success and build a recommendation system.  \n",
    "- **Supervised Learning**: A classification model predicts whether a movie is a flop, average, or successful based on its features.  \n",
    "- **Unsupervised Learning**: Clustering groups similar movies to enhance recommendations.  \n",
    "\n",
    "These insights can help movie industry stakeholders make data-driven decisions.\n"
   ]
  }
 ],
 "metadata": {
  "language_info": {
   "name": "python"
  }
 },
 "nbformat": 4,
 "nbformat_minor": 5
}
